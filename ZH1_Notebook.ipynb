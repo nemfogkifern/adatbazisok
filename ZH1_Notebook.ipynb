{
    "metadata": {
        "kernelspec": {
            "name": "SQL",
            "display_name": "SQL",
            "language": "sql"
        },
        "language_info": {
            "name": "sql",
            "version": ""
        }
    },
    "nbformat_minor": 2,
    "nbformat": 4,
    "cells": [
        {
            "cell_type": "code",
            "source": [
                "SELECT FOGLALAS_PK, METTOL, DATEADD(MONTH, 1, METTOL) AS 'Módosított kezdődátum'\r\n",
                "FROM Foglalas\r\n",
                "WHERE UGYFEL_FK = 'emese'"
            ],
            "metadata": {
                "azdata_cell_guid": "f550917e-0086-4d80-b994-7ae7a40c4e7f",
                "language": "sql"
            },
            "outputs": [
                {
                    "output_type": "display_data",
                    "data": {
                        "text/html": "(7 rows affected)"
                    },
                    "metadata": {}
                },
                {
                    "output_type": "display_data",
                    "data": {
                        "text/html": "Total execution time: 00:00:00.002"
                    },
                    "metadata": {}
                },
                {
                    "output_type": "execute_result",
                    "metadata": {},
                    "execution_count": 1,
                    "data": {
                        "application/vnd.dataresource+json": {
                            "schema": {
                                "fields": [
                                    {
                                        "name": "FOGLALAS_PK"
                                    },
                                    {
                                        "name": "METTOL"
                                    },
                                    {
                                        "name": "Módosított kezdődátum"
                                    }
                                ]
                            },
                            "data": [
                                {
                                    "FOGLALAS_PK": "706",
                                    "METTOL": "2016-07-22",
                                    "Módosított kezdődátum": "2016-08-22"
                                },
                                {
                                    "FOGLALAS_PK": "765",
                                    "METTOL": "2016-08-09",
                                    "Módosított kezdődátum": "2016-09-09"
                                },
                                {
                                    "FOGLALAS_PK": "1083",
                                    "METTOL": "2016-09-27",
                                    "Módosított kezdődátum": "2016-10-27"
                                },
                                {
                                    "FOGLALAS_PK": "1250",
                                    "METTOL": "2016-11-05",
                                    "Módosított kezdődátum": "2016-12-05"
                                },
                                {
                                    "FOGLALAS_PK": "1313",
                                    "METTOL": "2016-11-23",
                                    "Módosított kezdődátum": "2016-12-23"
                                },
                                {
                                    "FOGLALAS_PK": "1354",
                                    "METTOL": "2016-12-07",
                                    "Módosított kezdődátum": "2017-01-07"
                                },
                                {
                                    "FOGLALAS_PK": "1484",
                                    "METTOL": "2017-01-30",
                                    "Módosított kezdődátum": "2017-02-28"
                                }
                            ]
                        },
                        "text/html": [
                            "<table>",
                            "<tr><th>FOGLALAS_PK</th><th>METTOL</th><th>Módosított kezdődátum</th></tr>",
                            "<tr><td>706</td><td>2016-07-22</td><td>2016-08-22</td></tr>",
                            "<tr><td>765</td><td>2016-08-09</td><td>2016-09-09</td></tr>",
                            "<tr><td>1083</td><td>2016-09-27</td><td>2016-10-27</td></tr>",
                            "<tr><td>1250</td><td>2016-11-05</td><td>2016-12-05</td></tr>",
                            "<tr><td>1313</td><td>2016-11-23</td><td>2016-12-23</td></tr>",
                            "<tr><td>1354</td><td>2016-12-07</td><td>2017-01-07</td></tr>",
                            "<tr><td>1484</td><td>2017-01-30</td><td>2017-02-28</td></tr>",
                            "</table>"
                        ]
                    }
                }
            ],
            "execution_count": 1
        },
        {
            "cell_type": "code",
            "source": [
                "SELECT szh.SZALLAS_NEV, COUNT(*) AS 'Klimás szobák száma'\r\n",
                " \r\n",
                "\r\n",
                "FROM Szallashely szh JOIN Szoba sz ON szh.SZALLAS_ID = sz.SZALLAS_FK\r\n",
                "WHERE sz.KLIMAS = 'i'\r\n",
                "GROUP BY szh.SZALLAS_NEV"
            ],
            "metadata": {
                "azdata_cell_guid": "f76a9c59-a33f-4f86-b987-3973a710bec1",
                "language": "sql"
            },
            "outputs": [
                {
                    "output_type": "display_data",
                    "data": {
                        "text/html": "(17 rows affected)"
                    },
                    "metadata": {}
                },
                {
                    "output_type": "display_data",
                    "data": {
                        "text/html": "Total execution time: 00:00:00.007"
                    },
                    "metadata": {}
                },
                {
                    "output_type": "execute_result",
                    "metadata": {},
                    "execution_count": 2,
                    "data": {
                        "application/vnd.dataresource+json": {
                            "schema": {
                                "fields": [
                                    {
                                        "name": "SZALLAS_NEV"
                                    },
                                    {
                                        "name": "Klimás szobák száma"
                                    }
                                ]
                            },
                            "data": [
                                {
                                    "SZALLAS_NEV": "Bagoly Hotel",
                                    "Klimás szobák száma": "14"
                                },
                                {
                                    "SZALLAS_NEV": "Családi Ház",
                                    "Klimás szobák száma": "4"
                                },
                                {
                                    "SZALLAS_NEV": "Fortuna Apartman",
                                    "Klimás szobák száma": "7"
                                },
                                {
                                    "SZALLAS_NEV": "Fortuna panzió",
                                    "Klimás szobák száma": "20"
                                },
                                {
                                    "SZALLAS_NEV": "Gold Hotel",
                                    "Klimás szobák száma": "42"
                                },
                                {
                                    "SZALLAS_NEV": "Hotel Három Hattyú",
                                    "Klimás szobák száma": "28"
                                },
                                {
                                    "SZALLAS_NEV": "Jáde panzió",
                                    "Klimás szobák száma": "2"
                                },
                                {
                                    "SZALLAS_NEV": "Kentaur Hotel",
                                    "Klimás szobák száma": "22"
                                },
                                {
                                    "SZALLAS_NEV": "Kollégium",
                                    "Klimás szobák száma": "9"
                                },
                                {
                                    "SZALLAS_NEV": "Lagúna Hotel",
                                    "Klimás szobák száma": "15"
                                },
                                {
                                    "SZALLAS_NEV": "Nyárfás Vendégház",
                                    "Klimás szobák száma": "6"
                                },
                                {
                                    "SZALLAS_NEV": "Partiszél Vendégház",
                                    "Klimás szobák száma": "4"
                                },
                                {
                                    "SZALLAS_NEV": "Riviéra Panzió",
                                    "Klimás szobák száma": "8"
                                },
                                {
                                    "SZALLAS_NEV": "Sába-Ház",
                                    "Klimás szobák száma": "10"
                                },
                                {
                                    "SZALLAS_NEV": "Szarvas Hotel",
                                    "Klimás szobák száma": "11"
                                },
                                {
                                    "SZALLAS_NEV": "Szieszta Apartmanház",
                                    "Klimás szobák száma": "4"
                                },
                                {
                                    "SZALLAS_NEV": "Tímárház Panzió",
                                    "Klimás szobák száma": "9"
                                }
                            ]
                        },
                        "text/html": [
                            "<table>",
                            "<tr><th>SZALLAS_NEV</th><th>Klimás szobák száma</th></tr>",
                            "<tr><td>Bagoly Hotel</td><td>14</td></tr>",
                            "<tr><td>Családi Ház</td><td>4</td></tr>",
                            "<tr><td>Fortuna Apartman</td><td>7</td></tr>",
                            "<tr><td>Fortuna panzió</td><td>20</td></tr>",
                            "<tr><td>Gold Hotel</td><td>42</td></tr>",
                            "<tr><td>Hotel Három Hattyú</td><td>28</td></tr>",
                            "<tr><td>Jáde panzió</td><td>2</td></tr>",
                            "<tr><td>Kentaur Hotel</td><td>22</td></tr>",
                            "<tr><td>Kollégium</td><td>9</td></tr>",
                            "<tr><td>Lagúna Hotel</td><td>15</td></tr>",
                            "<tr><td>Nyárfás Vendégház</td><td>6</td></tr>",
                            "<tr><td>Partiszél Vendégház</td><td>4</td></tr>",
                            "<tr><td>Riviéra Panzió</td><td>8</td></tr>",
                            "<tr><td>Sába-Ház</td><td>10</td></tr>",
                            "<tr><td>Szarvas Hotel</td><td>11</td></tr>",
                            "<tr><td>Szieszta Apartmanház</td><td>4</td></tr>",
                            "<tr><td>Tímárház Panzió</td><td>9</td></tr>",
                            "</table>"
                        ]
                    }
                }
            ],
            "execution_count": 2
        },
        {
            "cell_type": "code",
            "source": [
                "SELECT szh.SZALLAS_NEV, COUNT(f.FOGLALAS_PK) AS 'Foglalások száma'\r\n",
                "FROM Foglalas f RIGHT JOIN Szoba sz ON f.SZOBA_FK = sz.SZOBA_ID\r\n",
                "                RIGHT JOIN szallashely szh ON sz.SZALLAS_FK = szh.SZALLAS_ID\r\n",
                "GROUP BY szh.SZALLAS_NEV"
            ],
            "metadata": {
                "azdata_cell_guid": "aae2f874-f6a9-489d-85ba-1ce0c330c19c",
                "language": "sql"
            },
            "outputs": [
                {
                    "output_type": "display_data",
                    "data": {
                        "text/html": "Warning: Null value is eliminated by an aggregate or other SET operation."
                    },
                    "metadata": {}
                },
                {
                    "output_type": "display_data",
                    "data": {
                        "text/html": "(18 rows affected)"
                    },
                    "metadata": {}
                },
                {
                    "output_type": "display_data",
                    "data": {
                        "text/html": "Total execution time: 00:00:00.009"
                    },
                    "metadata": {}
                },
                {
                    "output_type": "execute_result",
                    "metadata": {},
                    "execution_count": 9,
                    "data": {
                        "application/vnd.dataresource+json": {
                            "schema": {
                                "fields": [
                                    {
                                        "name": "SZALLAS_NEV"
                                    },
                                    {
                                        "name": "Foglalások száma"
                                    }
                                ]
                            },
                            "data": [
                                {
                                    "SZALLAS_NEV": "Szieszta Apartmanház",
                                    "Foglalások száma": "34"
                                },
                                {
                                    "SZALLAS_NEV": "Fortuna Panzió",
                                    "Foglalások száma": "126"
                                },
                                {
                                    "SZALLAS_NEV": "Nyárfás Vendégház",
                                    "Foglalások száma": "0"
                                },
                                {
                                    "SZALLAS_NEV": "Kentaur Hotel",
                                    "Foglalások száma": "179"
                                },
                                {
                                    "SZALLAS_NEV": "Partiszél Vendégház",
                                    "Foglalások száma": "26"
                                },
                                {
                                    "SZALLAS_NEV": "Riviéra Panzió",
                                    "Foglalások száma": "0"
                                },
                                {
                                    "SZALLAS_NEV": "Sába-Ház",
                                    "Foglalások száma": "70"
                                },
                                {
                                    "SZALLAS_NEV": "Tímárház Panzió",
                                    "Foglalások száma": "0"
                                },
                                {
                                    "SZALLAS_NEV": "Bagoly Hotel",
                                    "Foglalások száma": "0"
                                },
                                {
                                    "SZALLAS_NEV": "Müller Vendégház",
                                    "Foglalások száma": "0"
                                },
                                {
                                    "SZALLAS_NEV": "Családi Ház",
                                    "Foglalások száma": "18"
                                },
                                {
                                    "SZALLAS_NEV": "Fortuna Apartman",
                                    "Foglalások száma": "39"
                                },
                                {
                                    "SZALLAS_NEV": "Szarvas Hotel",
                                    "Foglalások száma": "0"
                                },
                                {
                                    "SZALLAS_NEV": "Hotel Három Hattyú",
                                    "Foglalások száma": "204"
                                },
                                {
                                    "SZALLAS_NEV": "Jáde panzió",
                                    "Foglalások száma": "29"
                                },
                                {
                                    "SZALLAS_NEV": "Lagúna Hotel",
                                    "Foglalások száma": "123"
                                },
                                {
                                    "SZALLAS_NEV": "Gold Hotel",
                                    "Foglalások száma": "179"
                                },
                                {
                                    "SZALLAS_NEV": "Kollégium",
                                    "Foglalások száma": "0"
                                }
                            ]
                        },
                        "text/html": [
                            "<table>",
                            "<tr><th>SZALLAS_NEV</th><th>Foglalások száma</th></tr>",
                            "<tr><td>Szieszta Apartmanház</td><td>34</td></tr>",
                            "<tr><td>Fortuna Panzió</td><td>126</td></tr>",
                            "<tr><td>Nyárfás Vendégház</td><td>0</td></tr>",
                            "<tr><td>Kentaur Hotel</td><td>179</td></tr>",
                            "<tr><td>Partiszél Vendégház</td><td>26</td></tr>",
                            "<tr><td>Riviéra Panzió</td><td>0</td></tr>",
                            "<tr><td>Sába-Ház</td><td>70</td></tr>",
                            "<tr><td>Tímárház Panzió</td><td>0</td></tr>",
                            "<tr><td>Bagoly Hotel</td><td>0</td></tr>",
                            "<tr><td>Müller Vendégház</td><td>0</td></tr>",
                            "<tr><td>Családi Ház</td><td>18</td></tr>",
                            "<tr><td>Fortuna Apartman</td><td>39</td></tr>",
                            "<tr><td>Szarvas Hotel</td><td>0</td></tr>",
                            "<tr><td>Hotel Három Hattyú</td><td>204</td></tr>",
                            "<tr><td>Jáde panzió</td><td>29</td></tr>",
                            "<tr><td>Lagúna Hotel</td><td>123</td></tr>",
                            "<tr><td>Gold Hotel</td><td>179</td></tr>",
                            "<tr><td>Kollégium</td><td>0</td></tr>",
                            "</table>"
                        ]
                    }
                }
            ],
            "execution_count": 9
        },
        {
            "cell_type": "code",
            "source": [
                ""
            ],
            "metadata": {
                "azdata_cell_guid": "d232f214-e544-44d4-bdd8-962d47c89946",
                "language": "sql"
            },
            "outputs": [],
            "execution_count": null
        }
    ]
}