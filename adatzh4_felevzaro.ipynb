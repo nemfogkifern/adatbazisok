{
    "metadata": {
        "kernelspec": {
            "name": "SQL",
            "display_name": "SQL",
            "language": "sql"
        },
        "language_info": {
            "name": "sql",
            "version": ""
        }
    },
    "nbformat_minor": 2,
    "nbformat": 4,
    "cells": [
        {
            "cell_type": "code",
            "source": [
                "SELECT NEV, USERNEV, EMAIL\r\n",
                "FROM vendeg\r\n",
                "WHERE EXISTS\r\n",
                "(\r\n",
                "    SELECT v.NEV ,COUNT(f.FOGLALAS_PK)\r\n",
                "    FROM Vendeg v JOIN Foglalas f ON v.USERNEV = f.UGYFEL_FK\r\n",
                "    WHERE MONTH(v.SZUL_DAT) <> 5\r\n",
                "    GROUP BY NEV\r\n",
                "    HAVING COUNT(f.FOGLALAS_PK) > 1\r\n",
                ")"
            ],
            "metadata": {
                "azdata_cell_guid": "47fc3dbc-b40d-4c8c-96fe-cbcd902a05fa",
                "language": "sql",
                "tags": [
                    "hide_input"
                ]
            },
            "outputs": [],
            "execution_count": null
        },
        {
            "cell_type": "code",
            "source": [
                "SELECT SZALLAS_ID, SZALLAS_NEV\r\n",
                "FROM Szallashely\r\n",
                "WHERE EXISTS \r\n",
                "(\r\n",
                "    SELECT HELY, MAX(CSILLAGOK_SZAMA)\r\n",
                "    FROM szallashely\r\n",
                "    GROUP BY HELY\r\n",
                ")\r\n",
                ""
            ],
            "metadata": {
                "azdata_cell_guid": "a1614c39-fb95-4d88-99b0-5b4e15dce972",
                "language": "sql",
                "tags": []
            },
            "outputs": [
                {
                    "output_type": "display_data",
                    "data": {
                        "text/html": "(21 rows affected)"
                    },
                    "metadata": {}
                },
                {
                    "output_type": "display_data",
                    "data": {
                        "text/html": "Total execution time: 00:00:00.006"
                    },
                    "metadata": {}
                },
                {
                    "output_type": "execute_result",
                    "metadata": {},
                    "execution_count": 63,
                    "data": {
                        "application/vnd.dataresource+json": {
                            "schema": {
                                "fields": [
                                    {
                                        "name": "SZALLAS_ID"
                                    },
                                    {
                                        "name": "SZALLAS_NEV"
                                    }
                                ]
                            },
                            "data": [
                                {
                                    "SZALLAS_ID": "1",
                                    "SZALLAS_NEV": "Sába-Ház"
                                },
                                {
                                    "SZALLAS_ID": "2",
                                    "SZALLAS_NEV": "Családi Ház"
                                },
                                {
                                    "SZALLAS_ID": "3",
                                    "SZALLAS_NEV": "Fortuna Apartman"
                                },
                                {
                                    "SZALLAS_ID": "4",
                                    "SZALLAS_NEV": "Fortuna panzió"
                                },
                                {
                                    "SZALLAS_ID": "5",
                                    "SZALLAS_NEV": "Fortuna Panzió"
                                },
                                {
                                    "SZALLAS_ID": "6",
                                    "SZALLAS_NEV": "Kentaur Hotel"
                                },
                                {
                                    "SZALLAS_ID": "7",
                                    "SZALLAS_NEV": "Szieszta Apartmanház"
                                },
                                {
                                    "SZALLAS_ID": "8",
                                    "SZALLAS_NEV": "Hotel Három Hattyú"
                                },
                                {
                                    "SZALLAS_ID": "9",
                                    "SZALLAS_NEV": "Jáde panzió"
                                },
                                {
                                    "SZALLAS_ID": "10",
                                    "SZALLAS_NEV": "Lagúna Hotel"
                                },
                                {
                                    "SZALLAS_ID": "11",
                                    "SZALLAS_NEV": "Partiszél Vendégház"
                                },
                                {
                                    "SZALLAS_ID": "12",
                                    "SZALLAS_NEV": "Gold Hotel"
                                },
                                {
                                    "SZALLAS_ID": "13",
                                    "SZALLAS_NEV": "Riviéra Panzió"
                                },
                                {
                                    "SZALLAS_ID": "14",
                                    "SZALLAS_NEV": "Nyárfás Vendégház"
                                },
                                {
                                    "SZALLAS_ID": "15",
                                    "SZALLAS_NEV": "Tímárház Panzió"
                                },
                                {
                                    "SZALLAS_ID": "16",
                                    "SZALLAS_NEV": "Bagoly Hotel"
                                },
                                {
                                    "SZALLAS_ID": "17",
                                    "SZALLAS_NEV": "Szarvas Hotel"
                                },
                                {
                                    "SZALLAS_ID": "18",
                                    "SZALLAS_NEV": "Fortuna Apartman"
                                },
                                {
                                    "SZALLAS_ID": "19",
                                    "SZALLAS_NEV": "Nyárfás Vendégház"
                                },
                                {
                                    "SZALLAS_ID": "20",
                                    "SZALLAS_NEV": "Kollégium"
                                },
                                {
                                    "SZALLAS_ID": "21",
                                    "SZALLAS_NEV": "Müller Vendégház"
                                }
                            ]
                        },
                        "text/html": [
                            "<table>",
                            "<tr><th>SZALLAS_ID</th><th>SZALLAS_NEV</th></tr>",
                            "<tr><td>1</td><td>Sába-Ház</td></tr>",
                            "<tr><td>2</td><td>Családi Ház</td></tr>",
                            "<tr><td>3</td><td>Fortuna Apartman</td></tr>",
                            "<tr><td>4</td><td>Fortuna panzió</td></tr>",
                            "<tr><td>5</td><td>Fortuna Panzió</td></tr>",
                            "<tr><td>6</td><td>Kentaur Hotel</td></tr>",
                            "<tr><td>7</td><td>Szieszta Apartmanház</td></tr>",
                            "<tr><td>8</td><td>Hotel Három Hattyú</td></tr>",
                            "<tr><td>9</td><td>Jáde panzió</td></tr>",
                            "<tr><td>10</td><td>Lagúna Hotel</td></tr>",
                            "<tr><td>11</td><td>Partiszél Vendégház</td></tr>",
                            "<tr><td>12</td><td>Gold Hotel</td></tr>",
                            "<tr><td>13</td><td>Riviéra Panzió</td></tr>",
                            "<tr><td>14</td><td>Nyárfás Vendégház</td></tr>",
                            "<tr><td>15</td><td>Tímárház Panzió</td></tr>",
                            "<tr><td>16</td><td>Bagoly Hotel</td></tr>",
                            "<tr><td>17</td><td>Szarvas Hotel</td></tr>",
                            "<tr><td>18</td><td>Fortuna Apartman</td></tr>",
                            "<tr><td>19</td><td>Nyárfás Vendégház</td></tr>",
                            "<tr><td>20</td><td>Kollégium</td></tr>",
                            "<tr><td>21</td><td>Müller Vendégház</td></tr>",
                            "</table>"
                        ]
                    }
                }
            ],
            "execution_count": 63
        },
        {
            "cell_type": "code",
            "source": [
                "SELECT szh.SZALLAS_NEV, f.mettol,\r\n",
                "       AVG(f.FELNOTT_SZAM + f.GYERMEK_SZAM) OVER(PARTITION BY szh.szallas_nev ORDER BY f.METTOL\r\n",
                "               ROWS BETWEEN 5 PRECEDING AND CURRENT ROW)\r\n",
                "FROM Foglalas f JOIN Szoba sz ON f.szoba_fk = sz.szoba_id\r\n",
                "                JOIN Szallashely szh ON sz.SZALLAS_FK = szh.SZALLAS_ID"
            ],
            "metadata": {
                "azdata_cell_guid": "434773f5-de78-417c-9f08-3c95eb06ce46",
                "language": "sql",
                "tags": []
            },
            "outputs": [],
            "execution_count": null
        },
        {
            "cell_type": "code",
            "source": [
                "SELECT IIF(szh.SZALLAS_NEV IS NULL, 'Összesen', szh.SZALLAS_NEV), sz.POTAGY, SUM(FELNOTT_SZAM) + SUM(GYERMEK_SZAM) AS 'Összes fő'\r\n",
                "FROM szallashely szh JOIN Szoba sz ON szh.SZALLAS_ID = sz.SZALLAS_FK\r\n",
                "                    JOIN Foglalas f ON sz.SZOBA_ID = f.SZOBA_FK\r\n",
                "GROUP BY ROLLUP(szh.SZALLAS_NEV, sz.POTAGY)"
            ],
            "metadata": {
                "azdata_cell_guid": "87c3682c-a800-4ff0-9fe0-3fe931e620ee",
                "language": "sql",
                "tags": []
            },
            "outputs": [],
            "execution_count": null
        },
        {
            "cell_type": "markdown",
            "source": [
                "A nem sql feladatokat is ide írom"
            ],
            "metadata": {
                "azdata_cell_guid": "2d4f2bef-b8af-40f9-9b68-a8ba2f764059"
            },
            "attachments": {}
        },
        {
            "cell_type": "code",
            "source": [
                "CREATE TABLE #MaskedGuest\r\n",
                "(\r\n",
                "    usernev nvarchar(10) PRIMARY KEY,\r\n",
                "    nev NVARCHAR(20) MASKED WITH (FUNCTION = 'partial(2, \"XXXX\", 3)'),\r\n",
                "    email NVARCHAR(30),\r\n",
                "    szaml_cim nvarchar(40),\r\n",
                "    SZUL_DAT date,\r\n",
                ")"
            ],
            "metadata": {
                "azdata_cell_guid": "9f689af5-8702-488d-abef-ef87f898c975",
                "language": "sql",
                "tags": [
                    "hide_input"
                ]
            },
            "outputs": [],
            "execution_count": null
        },
        {
            "cell_type": "code",
            "source": [
                "HSET IRO:1 nev \"József Attila\" nemzetiseg \"magyar\"\r\n",
                "HSET IRO:1 nev \"Petőfi Sándor\" nemzetiseg \"magyar\"\r\n",
                "\r\n",
                "HSET KONYV:1:1 cim \"első cim\" mufaj \"mufaj1\"\r\n",
                "HSET KONYV:2:2 cim \"masodik cim\" mufaj \"mufaj2\""
            ],
            "metadata": {
                "azdata_cell_guid": "92122714-11f9-4a74-8577-3e0264215316",
                "language": "sql",
                "tags": [
                    "hide_input"
                ]
            },
            "outputs": [],
            "execution_count": null
        },
        {
            "cell_type": "code",
            "source": [
                "CREATE TABLE STUDENT (\r\n",
                "    ID int PRIMARY KEY,\r\n",
                "    teljesitett_felevek LIST<int>,\r\n",
                "    eredmenyek map<INT, FLOAT>,\r\n",
                "    nyelvtudas SET<TEXT>\r\n",
                ");\r\n",
                "\r\n",
                "INSERT INTO STUDENT (ID, teljesitett_felevek, eredmenyek, nyelvtudas) \r\n",
                "VALUES (1, ['1', '2'], , {1: 2.0, 2: 3.3} ,{'Nemet', 'angol'});\r\n",
                "\r\n",
                "INSERT INTO STUDENT (ID, teljesitett_felevek, eredmenyek, nyelvtudas) \r\n",
                "VALUES (2, ['1', '2', '3'], , {1: 2.0, 2: 3.3, 3: 2.54} ,{'Nemet', 'angol', 'francia'});"
            ],
            "metadata": {
                "azdata_cell_guid": "5f3018e9-4981-468a-a32b-b76c71b957de",
                "language": "sql",
                "tags": [
                    "hide_input"
                ]
            },
            "outputs": [],
            "execution_count": null
        },
        {
            "cell_type": "code",
            "source": [
                "MATCH (p:Person {name:'Tom Hanks'})-[:ACTED_IN]->(m:Movie)<-[:ACTED_IN]-(p2:Person)\r\n",
                "RETURN DISTINCT p2.name"
            ],
            "metadata": {
                "azdata_cell_guid": "06219988-7dfe-45df-be9e-05d171a8c2be",
                "language": "sql"
            },
            "outputs": [],
            "execution_count": null
        }
    ]
}