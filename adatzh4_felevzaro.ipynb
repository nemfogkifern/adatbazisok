{
    "metadata": {
        "kernelspec": {
            "name": "SQL",
            "display_name": "SQL",
            "language": "sql"
        },
        "language_info": {
            "name": "sql",
            "version": ""
        }
    },
    "nbformat_minor": 2,
    "nbformat": 4,
    "cells": [
        {
            "cell_type": "code",
            "source": [
                "SELECT NEV, USERNEV, EMAIL\r\n",
                "FROM vendeg\r\n",
                "WHERE EXISTS\r\n",
                "(\r\n",
                "    SELECT v.NEV ,COUNT(f.FOGLALAS_PK)\r\n",
                "    FROM Vendeg v JOIN Foglalas f ON v.USERNEV = f.UGYFEL_FK\r\n",
                "    WHERE MONTH(v.SZUL_DAT) <> 5\r\n",
                "    GROUP BY NEV\r\n",
                "    HAVING COUNT(f.FOGLALAS_PK) > 1\r\n",
                ")"
            ],
            "metadata": {
                "azdata_cell_guid": "47fc3dbc-b40d-4c8c-96fe-cbcd902a05fa",
                "language": "sql",
                "tags": [
                    "hide_input"
                ]
            },
            "outputs": [],
            "execution_count": null
        },
        {
            "cell_type": "code",
            "source": [
                "SELECT SZALLAS_ID, SZALLAS_NEV\r\n",
                "FROM Szallashely\r\n",
                "WHERE EXISTS \r\n",
                "(\r\n",
                "    SELECT HELY, MAX(CSILLAGOK_SZAMA)\r\n",
                "    FROM szallashely\r\n",
                "    GROUP BY HELY\r\n",
                ")\r\n",
                ""
            ],
            "metadata": {
                "azdata_cell_guid": "a1614c39-fb95-4d88-99b0-5b4e15dce972",
                "language": "sql",
                "tags": []
            },
            "outputs": [],
            "execution_count": null
        },
        {
            "cell_type": "code",
            "source": [
                "SELECT szh.SZALLAS_NEV, f.mettol,\r\n",
                "       AVG(f.FELNOTT_SZAM + f.GYERMEK_SZAM) OVER(PARTITION BY szh.szallas_nev ORDER BY f.METTOL\r\n",
                "               ROWS BETWEEN 5 PRECEDING AND CURRENT ROW)\r\n",
                "FROM Foglalas f JOIN Szoba sz ON f.szoba_fk = sz.szoba_id\r\n",
                "                JOIN Szallashely szh ON sz.SZALLAS_FK = szh.SZALLAS_ID"
            ],
            "metadata": {
                "azdata_cell_guid": "434773f5-de78-417c-9f08-3c95eb06ce46",
                "language": "sql",
                "tags": []
            },
            "outputs": [],
            "execution_count": null
        },
        {
            "cell_type": "code",
            "source": [
                "SELECT IIF(szh.SZALLAS_NEV IS NULL, 'Összesen', szh.SZALLAS_NEV), sz.POTAGY, SUM(FELNOTT_SZAM) + SUM(GYERMEK_SZAM) AS 'Összes fő'\r\n",
                "FROM szallashely szh JOIN Szoba sz ON szh.SZALLAS_ID = sz.SZALLAS_FK\r\n",
                "                    JOIN Foglalas f ON sz.SZOBA_ID = f.SZOBA_FK\r\n",
                "GROUP BY ROLLUP(szh.SZALLAS_NEV, sz.POTAGY)"
            ],
            "metadata": {
                "azdata_cell_guid": "87c3682c-a800-4ff0-9fe0-3fe931e620ee",
                "language": "sql",
                "tags": []
            },
            "outputs": [],
            "execution_count": null
        },
        {
            "cell_type": "markdown",
            "source": [
                "A nem sql feladatokat is ide írom"
            ],
            "metadata": {
                "azdata_cell_guid": "2d4f2bef-b8af-40f9-9b68-a8ba2f764059"
            },
            "attachments": {}
        },
        {
            "cell_type": "code",
            "source": [
                "CREATE TABLE #MaskedGuest\r\n",
                "(\r\n",
                "    usernev nvarchar(10) PRIMARY KEY,\r\n",
                "    nev NVARCHAR(20) MASKED WITH (FUNCTION = 'partial(2, \"XXXX\", 3)'),\r\n",
                "    email NVARCHAR(30),\r\n",
                "    szaml_cim nvarchar(40),\r\n",
                "    SZUL_DAT date,\r\n",
                ")"
            ],
            "metadata": {
                "azdata_cell_guid": "9f689af5-8702-488d-abef-ef87f898c975",
                "language": "sql",
                "tags": [
                    "hide_input"
                ]
            },
            "outputs": [],
            "execution_count": null
        },
        {
            "cell_type": "code",
            "source": [
                "HSET IRO:1 nev \"József Attila\" nemzetiseg \"magyar\"\r\n",
                "HSET IRO:1 nev \"Petőfi Sándor\" nemzetiseg \"magyar\"\r\n",
                "\r\n",
                "HSET KONYV:1:1 cim \"első cim\" mufaj \"mufaj1\"\r\n",
                "HSET KONYV:2:2 cim \"masodik cim\" mufaj \"mufaj2\""
            ],
            "metadata": {
                "azdata_cell_guid": "92122714-11f9-4a74-8577-3e0264215316",
                "language": "sql",
                "tags": [
                    "hide_input"
                ]
            },
            "outputs": [],
            "execution_count": null
        },
        {
            "cell_type": "code",
            "source": [
                "CREATE TABLE STUDENT (\r\n",
                "    ID int PRIMARY KEY,\r\n",
                "    teljesitett_felevek LIST<int>,\r\n",
                "    eredmenyek map<INT, FLOAT>,\r\n",
                "    nyelvtudas SET<TEXT>\r\n",
                ");\r\n",
                "\r\n",
                "INSERT INTO STUDENT (ID, teljesitett_felevek, eredmenyek, nyelvtudas) \r\n",
                "VALUES (1, ['1', '2'], , {1: 2.0, 2: 3.3} ,{'Nemet', 'angol'});\r\n",
                "\r\n",
                "INSERT INTO STUDENT (ID, teljesitett_felevek, eredmenyek, nyelvtudas) \r\n",
                "VALUES (2, ['1', '2', '3'], , {1: 2.0, 2: 3.3, 3: 2.54} ,{'Nemet', 'angol', 'francia'});"
            ],
            "metadata": {
                "azdata_cell_guid": "5f3018e9-4981-468a-a32b-b76c71b957de",
                "language": "sql",
                "tags": [
                    "hide_input"
                ]
            },
            "outputs": [],
            "execution_count": null
        },
        {
            "cell_type": "code",
            "source": [
                "MATCH (p:Person {name:'Tom Hanks'})-[:ACTED_IN]->(m:Movie)<-[:ACTED_IN]-(p2:Person)\r\n",
                "RETURN DISTINCT p2.name"
            ],
            "metadata": {
                "azdata_cell_guid": "06219988-7dfe-45df-be9e-05d171a8c2be",
                "language": "sql"
            },
            "outputs": [],
            "execution_count": null
        }
    ]
}