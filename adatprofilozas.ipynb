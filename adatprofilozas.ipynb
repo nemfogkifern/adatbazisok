{
    "metadata": {
        "kernelspec": {
            "name": "SQL",
            "display_name": "SQL",
            "language": "sql"
        },
        "language_info": {
            "name": "sql",
            "version": ""
        }
    },
    "nbformat_minor": 2,
    "nbformat": 4,
    "cells": [
        {
            "cell_type": "code",
            "source": [
                "--Adatprofilozás a DVD nettóár oszlopban\r\n",
                "SELECT ROUND(AVG(nettoar),2) AS 'DVD-k átlagos nettóára',\r\n",
                "        MIN(nettoar) AS 'Legalacsonyabb nettóár',\r\n",
                "        MAX(nettoar) AS 'Legmagasabb nettóár',\r\n",
                "        ROUND(STDEV(nettoar),2) AS 'DVD árának szórása'\r\n",
                "\r\n",
                "FROM dvd"
            ],
            "metadata": {
                "azdata_cell_guid": "cc1b0708-0b69-48b9-89ad-afd9e59ee158",
                "language": "sql"
            },
            "outputs": [
                {
                    "output_type": "display_data",
                    "data": {
                        "text/html": "(1 row affected)"
                    },
                    "metadata": {}
                },
                {
                    "output_type": "display_data",
                    "data": {
                        "text/html": "Total execution time: 00:00:00.068"
                    },
                    "metadata": {}
                },
                {
                    "output_type": "execute_result",
                    "metadata": {},
                    "execution_count": 1,
                    "data": {
                        "application/vnd.dataresource+json": {
                            "schema": {
                                "fields": [
                                    {
                                        "name": "DVD-k átlagos nettóára"
                                    },
                                    {
                                        "name": "Legalacsonyabb nettóár"
                                    },
                                    {
                                        "name": "Legmagasabb nettóár"
                                    },
                                    {
                                        "name": "DVD árának szórása"
                                    }
                                ]
                            },
                            "data": [
                                {
                                    "DVD-k átlagos nettóára": "4682,34",
                                    "Legalacsonyabb nettóár": "3102",
                                    "Legmagasabb nettóár": "6098",
                                    "DVD árának szórása": "871,87"
                                }
                            ]
                        },
                        "text/html": [
                            "<table>",
                            "<tr><th>DVD-k átlagos nettóára</th><th>Legalacsonyabb nettóár</th><th>Legmagasabb nettóár</th><th>DVD árának szórása</th></tr>",
                            "<tr><td>4682,34</td><td>3102</td><td>6098</td><td>871,87</td></tr>",
                            "</table>"
                        ]
                    }
                }
            ],
            "execution_count": 1
        },
        {
            "cell_type": "code",
            "source": [
                "--Adatprofilozás a DVD cím oszlopban\r\n",
                "SELECT COUNT(*) AS 'Összes dvd cím',\r\n",
                "        COUNT(*) - COUNT(cim) AS 'Nulla értékek száma',\r\n",
                "        (COUNT(*) - COUNT(cim)) * 100.0 / COUNT(*) AS 'Nulla értékek százaléka',\r\n",
                "\r\n",
                "        MIN(LEN(cim)) AS 'Legrövidebb dvd cím hossza',\r\n",
                "        MAX(LEN(cim)) AS 'Leghosszabb dvd cím hossza',\r\n",
                "        AVG(LEN(cim)) AS 'Dvd címek átlagos hossza'\r\n",
                "FROM dvd\r\n",
                ""
            ],
            "metadata": {
                "azdata_cell_guid": "e301e5f2-c655-40a3-9ea8-eb3d7fd2ab5c",
                "language": "sql"
            },
            "outputs": [
{
    "output_type": "display_data",
    "data": {
        "text/html": "Warning: Null value is eliminated by an aggregate or other SET operation."
    },
    "metadata": {}
}, {
    "output_type": "display_data",
    "data": {
        "text/html": "(1 row affected)"
    },
    "metadata": {}
}, {
    "output_type": "display_data",
    "data": {
        "text/html": "Total execution time: 00:00:00.020"
    },
    "metadata": {}
}, {
    "output_type": "execute_result",
    "metadata": {},
    "execution_count": 53,
    "data": {
        "application/vnd.dataresource+json": {
            "schema": {
                "fields": [
                    {
                        "name": "Összes dvd cím"
                    },
                    {
                        "name": "Nulla értékek száma"
                    },
                    {
                        "name": "Nulla értékek százaléka"
                    },
                    {
                        "name": "Legrövidebb dvd cím hossza"
                    },
                    {
                        "name": "Leghosszabb dvd cím hossza"
                    },
                    {
                        "name": "Dvd címek átlagos hossza"
                    }
                ]
            },
            "data": [
                {
                    "Összes dvd cím": "318",
                    "Nulla értékek száma": "1",
                    "Nulla értékek százaléka": "0.314465408805",
                    "Legrövidebb dvd cím hossza": "5",
                    "Leghosszabb dvd cím hossza": "63",
                    "Dvd címek átlagos hossza": "26"
                }
            ]
        },
        "text/html": [
            "<table>",
            "<tr><th>Összes dvd cím</th><th>Nulla értékek száma</th><th>Nulla értékek százaléka</th><th>Legrövidebb dvd cím hossza</th><th>Leghosszabb dvd cím hossza</th><th>Dvd címek átlagos hossza</th></tr>",
            "<tr><td>318</td><td>1</td><td>0.314465408805</td><td>5</td><td>63</td><td>26</td></tr>",
            "</table>"
        ]
    }
}
],
            "execution_count": 53
        },
        {
            "cell_type": "code",
            "source": [
                "--Adatprofilozás a DVD stílus oszlopban\r\n",
                "--Top 10 leggyakrabban előforduló stílusú DVD-k száma\r\n",
                "SELECT TOP 10\r\n",
                "        stilus AS 'Stílus', \r\n",
                "        COUNT(*) AS 'Adott stílusú DVD-k száma'\r\n",
                "FROM dvd\r\n",
                "GROUP BY stilus\r\n",
                "ORDER BY COUNT(*) DESC\r\n",
                "\r\n",
                "--Különböző stílusok száma\r\n",
                "SELECT COUNT(DISTINCT(stilus)) AS 'Különböző stílusok száma'\r\n",
                "FROM dvd\r\n",
                "WHERE stilus IS NOT NULL"
            ],
            "metadata": {
                "azdata_cell_guid": "d818c108-4deb-467d-93dd-86280e5b8d43",
                "language": "sql"
            },
            "outputs": [
                {
                    "output_type": "display_data",
                    "data": {
                        "text/html": "(10 rows affected)"
                    },
                    "metadata": {}
                },
                {
                    "output_type": "display_data",
                    "data": {
                        "text/html": "(1 row affected)"
                    },
                    "metadata": {}
                },
                {
                    "output_type": "display_data",
                    "data": {
                        "text/html": "Total execution time: 00:00:00.056"
                    },
                    "metadata": {}
                },
                {
                    "output_type": "execute_result",
                    "metadata": {},
                    "execution_count": 52,
                    "data": {
                        "application/vnd.dataresource+json": {
                            "schema": {
                                "fields": [
                                    {
                                        "name": "Stílus"
                                    },
                                    {
                                        "name": "Adott stílusú DVD-k száma"
                                    }
                                ]
                            },
                            "data": [
                                {
                                    "Stílus": "játék",
                                    "Adott stílusú DVD-k száma": "60"
                                },
                                {
                                    "Stílus": "ismeretterjesztő",
                                    "Adott stílusú DVD-k száma": "46"
                                },
                                {
                                    "Stílus": "nyelvtanító",
                                    "Adott stílusú DVD-k száma": "42"
                                },
                                {
                                    "Stílus": "történelem",
                                    "Adott stílusú DVD-k száma": "41"
                                },
                                {
                                    "Stílus": "földrajz",
                                    "Adott stílusú DVD-k száma": "16"
                                },
                                {
                                    "Stílus": "irodalom",
                                    "Adott stílusú DVD-k száma": "16"
                                },
                                {
                                    "Stílus": "matematika",
                                    "Adott stílusú DVD-k száma": "9"
                                },
                                {
                                    "Stílus": "csillagászat",
                                    "Adott stílusú DVD-k száma": "7"
                                },
                                {
                                    "Stílus": "szótár",
                                    "Adott stílusú DVD-k száma": "7"
                                },
                                {
                                    "Stílus": "felvételi",
                                    "Adott stílusú DVD-k száma": "6"
                                }
                            ]
                        },
                        "text/html": [
                            "<table>",
                            "<tr><th>Stílus</th><th>Adott stílusú DVD-k száma</th></tr>",
                            "<tr><td>játék</td><td>60</td></tr>",
                            "<tr><td>ismeretterjesztő</td><td>46</td></tr>",
                            "<tr><td>nyelvtanító</td><td>42</td></tr>",
                            "<tr><td>történelem</td><td>41</td></tr>",
                            "<tr><td>földrajz</td><td>16</td></tr>",
                            "<tr><td>irodalom</td><td>16</td></tr>",
                            "<tr><td>matematika</td><td>9</td></tr>",
                            "<tr><td>csillagászat</td><td>7</td></tr>",
                            "<tr><td>szótár</td><td>7</td></tr>",
                            "<tr><td>felvételi</td><td>6</td></tr>",
                            "</table>"
                        ]
                    }
                },
                {
                    "output_type": "execute_result",
                    "metadata": {},
                    "execution_count": 52,
                    "data": {
                        "application/vnd.dataresource+json": {
                            "schema": {
                                "fields": [
                                    {
                                        "name": "Különböző stílusok száma"
                                    }
                                ]
                            },
                            "data": [
                                {
                                    "Különböző stílusok száma": "47"
                                }
                            ]
                        },
                        "text/html": [
                            "<table>",
                            "<tr><th>Különböző stílusok száma</th></tr>",
                            "<tr><td>47</td></tr>",
                            "</table>"
                        ]
                    }
                }
            ],
            "execution_count": 52
        }
    ]
}